{
  "nbformat": 4,
  "nbformat_minor": 0,
  "metadata": {
    "colab": {
      "provenance": []
    },
    "kernelspec": {
      "name": "python3",
      "display_name": "Python 3"
    },
    "language_info": {
      "name": "python"
    }
  },
  "cells": [
    {
      "cell_type": "code",
      "execution_count": 2,
      "metadata": {
        "colab": {
          "base_uri": "https://localhost:8080/"
        },
        "id": "10O_j_P0_UlS",
        "outputId": "719fb7fb-9c63-4c10-b61a-86b360348267"
      },
      "outputs": [
        {
          "output_type": "stream",
          "name": "stdout",
          "text": [
            "Epoch 0: Current state: [1 0 1 0 1 1], Energy: -16.673181034091755\n",
            "Epoch 100: Current state: [1 0 1 0 1 1], Energy: -14.320573528874037\n",
            "Epoch 200: Current state: [1 1 1 0 1 1], Energy: -18.875478063257095\n",
            "Epoch 300: Current state: [1 1 1 0 1 1], Energy: -24.845904113297568\n",
            "Epoch 400: Current state: [1 1 1 0 1 1], Energy: -23.932278192693154\n"
          ]
        }
      ],
      "source": [
        "import numpy as np\n",
        "\n",
        "class BoltzmannMachine:\n",
        "    def __init__(self, num_nodes):\n",
        "        self.num_nodes = num_nodes\n",
        "        self.weights = np.random.randn(self.num_nodes, self.num_nodes)\n",
        "        self.states = np.random.choice([0, 1], self.num_nodes)\n",
        "\n",
        "    def energy(self):\n",
        "        E = -np.dot(self.states, np.dot(self.weights, self.states))\n",
        "        return E\n",
        "\n",
        "    def step(self):\n",
        "        for i in range(self.num_nodes):\n",
        "            self.update_node(i)\n",
        "\n",
        "    def update_node(self, node):\n",
        "        net_input = np.dot(self.weights[node], self.states)\n",
        "        probability = self.sigmoid(net_input)\n",
        "        self.states[node] = 1 if np.random.rand() < probability else 0\n",
        "\n",
        "    def sigmoid(self, x):\n",
        "        return 1 / (1 + np.exp(-x))\n",
        "\n",
        "    def train(self, data, epochs=1000, learning_rate=0.1):\n",
        "        for epoch in range(epochs):\n",
        "            np.random.shuffle(data)\n",
        "            for sample in data:\n",
        "                self.states = sample\n",
        "                self.step()\n",
        "\n",
        "                for i in range(self.num_nodes):\n",
        "                    for j in range(self.num_nodes):\n",
        "                        if i != j:\n",
        "                            delta_weight = learning_rate * (self.states[i] * self.states[j] - self.sigmoid(np.dot(self.weights[i], sample)) * self.sigmoid(np.dot(self.weights[j], sample)))\n",
        "                            self.weights[i, j] += delta_weight\n",
        "                            self.weights[j, i] = self.weights[i, j]\n",
        "\n",
        "\n",
        "            if epoch % 100 == 0:\n",
        "                print(f\"Epoch {epoch}: Current state: {self.states}, Energy: {self.energy()}\")\n",
        "\n",
        "\n",
        "num_nodes = 6\n",
        "bm = BoltzmannMachine(num_nodes)\n",
        "\n",
        "\n",
        "data = np.array([[0, 1, 1, 0, 1, 0],\n",
        "                 [1, 0, 0, 1, 0, 1]])\n",
        "\n",
        "bm.train(data, epochs=500, learning_rate=0.05)\n"
      ]
    }
  ]
}